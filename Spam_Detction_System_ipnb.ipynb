{
 "cells": [
  {
   "cell_type": "code",
   "execution_count": 2,
   "metadata": {
    "colab": {
     "base_uri": "https://localhost:8080/",
     "height": 423
    },
    "id": "TD9DwR2pprBH",
    "outputId": "457418a6-046d-4b81-d8fc-6f33e56d8ce1"
   },
   "outputs": [
    {
     "data": {
      "text/html": [
       "<div>\n",
       "<style scoped>\n",
       "    .dataframe tbody tr th:only-of-type {\n",
       "        vertical-align: middle;\n",
       "    }\n",
       "\n",
       "    .dataframe tbody tr th {\n",
       "        vertical-align: top;\n",
       "    }\n",
       "\n",
       "    .dataframe thead th {\n",
       "        text-align: right;\n",
       "    }\n",
       "</style>\n",
       "<table border=\"1\" class=\"dataframe\">\n",
       "  <thead>\n",
       "    <tr style=\"text-align: right;\">\n",
       "      <th></th>\n",
       "      <th>Category</th>\n",
       "      <th>Message</th>\n",
       "    </tr>\n",
       "  </thead>\n",
       "  <tbody>\n",
       "    <tr>\n",
       "      <th>0</th>\n",
       "      <td>ham</td>\n",
       "      <td>Go until jurong point, crazy.. Available only ...</td>\n",
       "    </tr>\n",
       "    <tr>\n",
       "      <th>1</th>\n",
       "      <td>ham</td>\n",
       "      <td>Ok lar... Joking wif u oni...</td>\n",
       "    </tr>\n",
       "    <tr>\n",
       "      <th>2</th>\n",
       "      <td>spam</td>\n",
       "      <td>Free entry in 2 a wkly comp to win FA Cup fina...</td>\n",
       "    </tr>\n",
       "    <tr>\n",
       "      <th>3</th>\n",
       "      <td>ham</td>\n",
       "      <td>U dun say so early hor... U c already then say...</td>\n",
       "    </tr>\n",
       "    <tr>\n",
       "      <th>4</th>\n",
       "      <td>ham</td>\n",
       "      <td>Nah I don't think he goes to usf, he lives aro...</td>\n",
       "    </tr>\n",
       "  </tbody>\n",
       "</table>\n",
       "</div>"
      ],
      "text/plain": [
       "  Category                                            Message\n",
       "0      ham  Go until jurong point, crazy.. Available only ...\n",
       "1      ham                      Ok lar... Joking wif u oni...\n",
       "2     spam  Free entry in 2 a wkly comp to win FA Cup fina...\n",
       "3      ham  U dun say so early hor... U c already then say...\n",
       "4      ham  Nah I don't think he goes to usf, he lives aro..."
      ]
     },
     "execution_count": 2,
     "metadata": {},
     "output_type": "execute_result"
    }
   ],
   "source": [
    "import warnings\n",
    "warnings.filterwarnings('ignore')\n",
    "import pandas as pd\n",
    "import numpy as np\n",
    "import matplotlib.pyplot as plt\n",
    "\n",
    "df = pd.read_csv('spam.csv')\n",
    "df.head()"
   ]
  },
  {
   "cell_type": "code",
   "execution_count": 3,
   "metadata": {
    "colab": {
     "base_uri": "https://localhost:8080/",
     "height": 206
    },
    "id": "30SGDa5Puacq",
    "outputId": "13722520-c66c-4463-a921-506379795f4c"
   },
   "outputs": [
    {
     "data": {
      "text/html": [
       "<div>\n",
       "<style scoped>\n",
       "    .dataframe tbody tr th:only-of-type {\n",
       "        vertical-align: middle;\n",
       "    }\n",
       "\n",
       "    .dataframe tbody tr th {\n",
       "        vertical-align: top;\n",
       "    }\n",
       "\n",
       "    .dataframe thead th {\n",
       "        text-align: right;\n",
       "    }\n",
       "</style>\n",
       "<table border=\"1\" class=\"dataframe\">\n",
       "  <thead>\n",
       "    <tr style=\"text-align: right;\">\n",
       "      <th></th>\n",
       "      <th>label</th>\n",
       "      <th>message</th>\n",
       "    </tr>\n",
       "  </thead>\n",
       "  <tbody>\n",
       "    <tr>\n",
       "      <th>0</th>\n",
       "      <td>0</td>\n",
       "      <td>Go until jurong point, crazy.. Available only ...</td>\n",
       "    </tr>\n",
       "    <tr>\n",
       "      <th>1</th>\n",
       "      <td>0</td>\n",
       "      <td>Ok lar... Joking wif u oni...</td>\n",
       "    </tr>\n",
       "    <tr>\n",
       "      <th>2</th>\n",
       "      <td>1</td>\n",
       "      <td>Free entry in 2 a wkly comp to win FA Cup fina...</td>\n",
       "    </tr>\n",
       "    <tr>\n",
       "      <th>3</th>\n",
       "      <td>0</td>\n",
       "      <td>U dun say so early hor... U c already then say...</td>\n",
       "    </tr>\n",
       "    <tr>\n",
       "      <th>4</th>\n",
       "      <td>0</td>\n",
       "      <td>Nah I don't think he goes to usf, he lives aro...</td>\n",
       "    </tr>\n",
       "  </tbody>\n",
       "</table>\n",
       "</div>"
      ],
      "text/plain": [
       "   label                                            message\n",
       "0      0  Go until jurong point, crazy.. Available only ...\n",
       "1      0                      Ok lar... Joking wif u oni...\n",
       "2      1  Free entry in 2 a wkly comp to win FA Cup fina...\n",
       "3      0  U dun say so early hor... U c already then say...\n",
       "4      0  Nah I don't think he goes to usf, he lives aro..."
      ]
     },
     "execution_count": 3,
     "metadata": {},
     "output_type": "execute_result"
    }
   ],
   "source": [
    "# Rename columns for clarity\n",
    "df.columns = ['label', 'message']\n",
    "# Convert labels to binary\n",
    "df['label'] = df['label'].map({'ham': 0, 'spam': 1})\n",
    "# Preview\n",
    "df.head()\n"
   ]
  },
  {
   "cell_type": "code",
   "execution_count": 4,
   "metadata": {
    "colab": {
     "base_uri": "https://localhost:8080/",
     "height": 430
    },
    "id": "Mz66ezL9tRdo",
    "outputId": "2186f730-3aa2-43f2-be34-ac97077e1b12"
   },
   "outputs": [
    {
     "data": {
      "image/png": "[encoded data removed]",
      "text/plain": [
       "<Figure size 640x480 with 1 Axes>"
      ]
     },
     "metadata": {},
     "output_type": "display_data"
    }
   ],
   "source": [
    "from matplotlib import pyplot as plt\n",
    "import seaborn as sns\n",
    "df.groupby('label').size().plot(kind='barh', color=sns.palettes.mpl_palette('Dark2'))\n",
    "plt.gca().spines[['top', 'right',]].set_visible(False)"
   ]
  },
  {
   "cell_type": "code",
   "execution_count": 5,
   "metadata": {
    "colab": {
     "base_uri": "https://localhost:8080/"
    },
    "id": "0L6l7WW1sln-",
    "outputId": "e9204138-aad2-43b6-fd42-8f6b470956f3"
   },
   "outputs": [
    {
     "name": "stdout",
     "output_type": "stream",
     "text": [
      "Missing values:\n",
      " label      0\n",
      "message    0\n",
      "dtype: int64\n",
      "\n",
      "Unique labels: [0 1]\n",
      "\n",
      "Number of duplicate rows: 415\n"
     ]
    }
   ],
   "source": [
    "# Check for missing values\n",
    "print(\"Missing values:\\n\", df.isnull().sum())\n",
    "\n",
    "# Check unique labels\n",
    "print(\"\\nUnique labels:\", df['label'].unique())\n",
    "\n",
    "# Check for duplicates\n",
    "print(\"\\nNumber of duplicate rows:\", df.duplicated().sum())"
   ]
  },
  {
   "cell_type": "code",
   "execution_count": 6,
   "metadata": {
    "colab": {
     "base_uri": "https://localhost:8080/"
    },
    "id": "cintSicKvpQa",
    "outputId": "9e6bd338-9302-4844-95b4-1b523d97883e"
   },
   "outputs": [
    {
     "name": "stdout",
     "output_type": "stream",
     "text": [
      "New shape after removing duplicates: (5157, 2)\n"
     ]
    }
   ],
   "source": [
    "# Remove duplicate rows\n",
    "df = df.drop_duplicates()\n",
    "\n",
    "# Confirm removal\n",
    "print(\"New shape after removing duplicates:\", df.shape)\n"
   ]
  },
  {
   "cell_type": "code",
   "execution_count": 7,
   "metadata": {
    "id": "i3j9cDUpv9CZ"
   },
   "outputs": [],
   "source": [
    "from sklearn.model_selection import train_test_split\n",
    "from sklearn.feature_extraction.text import TfidfVectorizer\n",
    "\n",
    "# Separate features and labels\n",
    "X = df['message']\n",
    "y = df['label']\n",
    "\n",
    "# Split into training and testing sets (80/20)\n",
    "X_train, X_test, y_train, y_test = train_test_split(X, y, test_size=0.2, random_state=42)\n",
    "\n",
    "# TF-IDF Vectorization (text → numerical features)\n",
    "vectorizer = TfidfVectorizer(stop_words='english', max_df=0.95)\n",
    "X_train_tfidf = vectorizer.fit_transform(X_train)\n",
    "X_test_tfidf = vectorizer.transform(X_test)\n"
   ]
  },
  {
   "cell_type": "code",
   "execution_count": 8,
   "metadata": {
    "id": "UQNfiXFywYfz"
   },
   "outputs": [],
   "source": [
    "from sklearn.naive_bayes import MultinomialNB\n",
    "from sklearn.svm import SVC\n",
    "from sklearn.ensemble import RandomForestClassifier\n",
    "from sklearn.linear_model import LogisticRegression\n",
    "\n",
    "models = {\n",
    "    'Naive Bayes': MultinomialNB(),\n",
    "    'SVM': SVC(kernel='linear', probability=True),\n",
    "    'Random Forest': RandomForestClassifier(n_estimators=100, random_state=42),\n",
    "    'Logistic Regression': LogisticRegression(max_iter=1000)\n",
    "}\n",
    "\n",
    "for name, model in models.items():\n",
    "    model.fit(X_train_tfidf, y_train)"
   ]
  },
  {
   "cell_type": "code",
   "execution_count": 9,
   "metadata": {
    "colab": {
     "base_uri": "https://localhost:8080/"
    },
    "id": "SbGlzlkLwwDj",
    "outputId": "bf7f4467-0dcb-420f-fb36-c8fde74bddff"
   },
   "outputs": [
    {
     "name": "stdout",
     "output_type": "stream",
     "text": [
      "Naive Bayes Performance:\n",
      "Accuracy: 0.9690\n",
      "Precision: 1.0000\n",
      "Recall: 0.7647\n",
      "F1-Score: 0.8667\n",
      "ROC-AUC: 0.9831\n",
      "\n",
      "SVM Performance:\n",
      "Accuracy: 0.9835\n",
      "Precision: 0.9474\n",
      "Recall: 0.9265\n",
      "F1-Score: 0.9368\n",
      "ROC-AUC: 0.9891\n",
      "\n",
      "Random Forest Performance:\n",
      "Accuracy: 0.9806\n",
      "Precision: 0.9915\n",
      "Recall: 0.8603\n",
      "F1-Score: 0.9213\n",
      "ROC-AUC: 0.9880\n",
      "\n",
      "Logistic Regression Performance:\n",
      "Accuracy: 0.9525\n",
      "Precision: 0.9579\n",
      "Recall: 0.6691\n",
      "F1-Score: 0.7879\n",
      "ROC-AUC: 0.9871\n",
      "\n"
     ]
    }
   ],
   "source": [
    "from sklearn.metrics import accuracy_score, precision_score, recall_score, f1_score, roc_auc_score\n",
    "\n",
    "for name, model in models.items():\n",
    "    y_pred = model.predict(X_test_tfidf)\n",
    "    print(f\"{name} Performance:\")\n",
    "    print(f\"Accuracy: {accuracy_score(y_test, y_pred):.4f}\")\n",
    "    print(f\"Precision: {precision_score(y_test, y_pred):.4f}\")\n",
    "    print(f\"Recall: {recall_score(y_test, y_pred):.4f}\")\n",
    "    print(f\"F1-Score: {f1_score(y_test, y_pred):.4f}\")\n",
    "    print(f\"ROC-AUC: {roc_auc_score(y_test, model.predict_proba(X_test_tfidf)[:, 1]):.4f}\\n\")"
   ]
  },
  {
   "cell_type": "code",
   "execution_count": 10,
   "metadata": {
    "id": "rHPEa-oozI4E"
   },
   "outputs": [],
   "source": [
    "new_email = [\"Congratulations! You've won a free cruise. Call now to claim!\"]\n",
    "new_email_2 = [\"Hey, just checking in. Are we still on for lunch today?\"]\n"
   ]
  },
  {
   "cell_type": "code",
   "execution_count": 11,
   "metadata": {
    "colab": {
     "base_uri": "https://localhost:8080/"
    },
    "id": "u4L3C5kwzK8d",
    "outputId": "5ac960b5-3645-4c23-dbcb-44e1e232fb2d"
   },
   "outputs": [
    {
     "name": "stdout",
     "output_type": "stream",
     "text": [
      "Naive Bayes Prediction: Spam\n",
      "Naive Bayes Prediction: Not Spam\n"
     ]
    }
   ],
   "source": [
    "new_email_tfidf = vectorizer.transform(new_email)\n",
    "nb_pred = models['Naive Bayes'].predict(new_email_tfidf)\n",
    "print(\"Naive Bayes Prediction:\", \"Spam\" if nb_pred[0] == 1 else \"Not Spam\")\n",
    "\n",
    "new_email_2_tfidf = vectorizer.transform(new_email_2)\n",
    "nb_pred = models['Naive Bayes'].predict(new_email_2_tfidf)\n",
    "print(\"Naive Bayes Prediction:\", \"Spam\" if nb_pred[0] == 1 else \"Not Spam\")"
   ]
  },
  {
   "cell_type": "code",
   "execution_count": 12,
   "metadata": {
    "colab": {
     "base_uri": "https://localhost:8080/"
    },
    "id": "LA0hEwK5zQ-V",
    "outputId": "66a7d765-db3a-4733-e511-896ecbdfcc07"
   },
   "outputs": [
    {
     "name": "stdout",
     "output_type": "stream",
     "text": [
      "SVM Prediction: Spam\n",
      "SVM Prediction: Not Spam\n"
     ]
    }
   ],
   "source": [
    "svm_pred = models['SVM'].predict(new_email_tfidf)\n",
    "print(\"SVM Prediction:\", \"Spam\" if svm_pred[0] == 1 else \"Not Spam\")\n",
    "\n",
    "svm_pred = models['SVM'].predict(new_email_2_tfidf)\n",
    "print(\"SVM Prediction:\", \"Spam\" if svm_pred[0] == 1 else \"Not Spam\")"
   ]
  },
  {
   "cell_type": "code",
   "execution_count": 13,
   "metadata": {
    "colab": {
     "base_uri": "https://localhost:8080/"
    },
    "id": "AIyNBXJZzUMo",
    "outputId": "01c5f4d2-d194-49a6-9d85-7097e503adbe"
   },
   "outputs": [
    {
     "name": "stdout",
     "output_type": "stream",
     "text": [
      "Random Forest Prediction: Spam\n",
      "Random Forest Prediction: Not Spam\n"
     ]
    }
   ],
   "source": [
    "rf_pred = models['Random Forest'].predict(new_email_tfidf)\n",
    "print(\"Random Forest Prediction:\", \"Spam\" if rf_pred[0] == 1 else \"Not Spam\")\n",
    "\n",
    "rf_pred = models['Random Forest'].predict(new_email_2_tfidf)\n",
    "print(\"Random Forest Prediction:\", \"Spam\" if rf_pred[0] == 1 else \"Not Spam\")"
   ]
  },
  {
   "cell_type": "code",
   "execution_count": 14,
   "metadata": {
    "colab": {
     "base_uri": "https://localhost:8080/"
    },
    "id": "iyULaa7RzXBn",
    "outputId": "b47fd1f2-233f-473e-fbf9-26da9e941e85"
   },
   "outputs": [
    {
     "name": "stdout",
     "output_type": "stream",
     "text": [
      "Logistic Regression Prediction: Spam\n",
      "Logistic Regression Prediction: Not Spam\n"
     ]
    }
   ],
   "source": [
    "lr_pred = models['Logistic Regression'].predict(new_email_tfidf)\n",
    "print(\"Logistic Regression Prediction:\", \"Spam\" if lr_pred[0] == 1 else \"Not Spam\")\n",
    "\n",
    "lr_pred = models['Logistic Regression'].predict(new_email_2_tfidf)\n",
    "print(\"Logistic Regression Prediction:\", \"Spam\" if lr_pred[0] == 1 else \"Not Spam\")"
   ]
  },
  {
   "cell_type": "code",
   "execution_count": 15,
   "metadata": {},
   "outputs": [],
   "source": [
    "import pickle\n",
    "with open('model_svm.pkl', 'wb') as file:\n",
    "    pickle.dump(models['SVM'], file)\n",
    "with open('tfidf_vectorizer.pkl', 'wb') as file:\n",
    "    pickle.dump(vectorizer, file)\n"
   ]
  }
 ],
 "metadata": {
  "colab": {
   "provenance": []
  },
  "kernelspec": {
   "display_name": "Python 3 (ipykernel)",
   "language": "python",
   "name": "python3"
  },
  "language_info": {
   "codemirror_mode": {
    "name": "ipython",
    "version": 3
   },
   "file_extension": ".py",
   "mimetype": "text/x-python",
   "name": "python",
   "nbconvert_exporter": "python",
   "pygments_lexer": "ipython3",
   "version": "3.12.4"
  }
 },
 "nbformat": 4,
 "nbformat_minor": 4
}
